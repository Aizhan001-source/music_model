{
 "cells": [
  {
   "cell_type": "code",
   "execution_count": 38,
   "metadata": {},
   "outputs": [],
   "source": [
    "import os\n",
    "import numpy as np\n",
    "import librosa\n",
    "import librosa.display\n",
    "from pydub import AudioSegment\n",
    "from sklearn.model_selection import train_test_split\n",
    "from tensorflow.keras.utils import to_categorical\n",
    "from tensorflow.keras.models import Sequential\n",
    "from tensorflow.keras import Sequential, Input\n",
    "from tensorflow.keras.layers import Conv1D, Flatten, Dense\n",
    "from tensorflow.keras.optimizers import Adam\n",
    "import matplotlib.pyplot as plt\n",
    "from pathlib import Path"
   ]
  },
  {
   "cell_type": "code",
   "execution_count": 28,
   "metadata": {},
   "outputs": [],
   "source": [
    "SR = 22050\n",
    "N_MFCC = 13\n",
    "genre_list = [ 'jazz', 'rock', 'pop', 'hiphop']\n",
    "CHUNK_DURATION = 3"
   ]
  },
  {
   "cell_type": "code",
   "execution_count": 29,
   "metadata": {},
   "outputs": [],
   "source": [
    "def split_audio_to_chunks(file_path, chunk_duration, sr=SR):\n",
    "    try:\n",
    "        y, _ = librosa.load(file_path, sr=sr)\n",
    "    except Exception as e:\n",
    "        print(f\"Ошибка при загрузке файла {file_path}: {e}\")\n",
    "        return []\n",
    "    chunk_size = int(chunk_duration * sr)\n",
    "    chunks = [y[i:i + chunk_size] for i in range(0, len(y), chunk_size)]\n",
    "    \n",
    "    if len(chunks[-1]) < chunk_size:\n",
    "        padded_chunk = np.pad(chunks[-1], (0, chunk_size - len(chunks[-1])), 'constant')\n",
    "        chunks[-1] = padded_chunk\n",
    "    \n",
    "    return chunks\n"
   ]
  },
  {
   "cell_type": "code",
   "execution_count": 34,
   "metadata": {},
   "outputs": [],
   "source": [
    "def extract_features_from_chunks(chunks, sr=SR, n_mfcc=N_MFCC):\n",
    "    all_features = []\n",
    "    max_len = 0  \n",
    "\n",
    "    for chunk in chunks:\n",
    "        mfcc = librosa.feature.mfcc(y=chunk, sr=sr, n_mfcc=n_mfcc)\n",
    "        chroma = librosa.feature.chroma_stft(y=chunk, sr=sr)\n",
    "        spectral_centroid = librosa.feature.spectral_centroid(y=chunk, sr=sr)\n",
    "        spectral_rolloff = librosa.feature.spectral_rolloff(y=chunk, sr=sr)\n",
    "        spectral_bandwidth = librosa.feature.spectral_bandwidth(y=chunk, sr=sr)\n",
    "        rms = librosa.feature.rms(y=chunk)\n",
    "        zcr = librosa.feature.zero_crossing_rate(y=chunk)\n",
    "\n",
    "        max_len = max(max_len, mfcc.shape[1])\n",
    "\n",
    "        features = {\n",
    "            'mfcc': mfcc,\n",
    "            'chroma': chroma,\n",
    "            'spectral_centroid': spectral_centroid,\n",
    "            'spectral_rolloff': spectral_rolloff,\n",
    "            'spectral_bandwidth': spectral_bandwidth,\n",
    "            'rms': rms,\n",
    "            'zcr': zcr,\n",
    "        }\n",
    "        all_features.append(features)\n",
    "\n",
    "    processed_features = []\n",
    "    for features in all_features:\n",
    "        min_rows = min(f.shape[0] for f in features.values())\n",
    "        \n",
    "        padded_features = [\n",
    "            np.pad(f[:min_rows, :], ((0, 0), (0, max_len - f.shape[1])), mode='constant') for f in features.values()\n",
    "        ]\n",
    "\n",
    "        combined_features = np.hstack(padded_features)\n",
    "        processed_features.append(combined_features.T) \n",
    "\n",
    "    return np.array(processed_features)"
   ]
  },
  {
   "cell_type": "code",
   "execution_count": 35,
   "metadata": {},
   "outputs": [],
   "source": [
    "audio_dir = Path(\"/Users/ajzansejlhanova/Desktop/aai\")\n",
    "if not os.path.exists(audio_dir):\n",
    "    raise FileNotFoundError(f\"Указанный путь к аудиофайлам не существует: {audio_dir}\")\n",
    "\n",
    "\n",
    "audio_files = [os.path.join(audio_dir, file) for file in os.listdir(audio_dir) if file.endswith('.mp3')]\n",
    "if not audio_files:\n",
    "    raise FileNotFoundError(\"Не найдено файлов с расширением .mp3 в указанной директории.\")\n",
    "\n",
    "wav_files = []\n",
    "for mp3_file in audio_files:\n",
    "    wav_file = mp3_file.replace('.mp3', '.wav')\n",
    "    convert_mp3_to_wav(mp3_file, wav_file)\n",
    "    wav_files.append(wav_file)\n",
    "    try:\n",
    "        os.remove(mp3_file)  \n",
    "    except Exception as e:\n",
    "        print(f\"Не удалось удалить файл {mp3_file}: {e}\")\n",
    "\n",
    "if len(wav_files) % len(genre_list) != 0:\n",
    "    raise ValueError(\"Количество файлов не кратно количеству жанров. Проверьте данные.\")\n",
    "\n",
    "genres = ['jazz', 'rock', 'pop', 'hiphop'] * (len(wav_files) // len(genre_list))\n",
    "\n",
    "X, y = [], []\n",
    "for file_path, genre in zip(wav_files, genres):\n",
    "    chunks = split_audio_to_chunks(file_path, CHUNK_DURATION)\n",
    "    features = extract_features_from_chunks(chunks)\n",
    "    if len(features) > 0:  \n",
    "        X.append(features)\n",
    "        y.extend([genre_list.index(genre)] * len(features))\n",
    "\n",
    "if not X:\n",
    "    raise ValueError(\"Не удалось извлечь признаки из аудиофайлов. Проверьте данные.\")\n",
    "\n",
    "X = np.vstack(X)\n",
    "y = to_categorical(y, num_classes=len(genre_list))\n",
    "\n",
    "X_train, X_test, y_train, y_test = train_test_split(X, y, test_size=0.2, random_state=42)"
   ]
  },
  {
   "cell_type": "code",
   "execution_count": 39,
   "metadata": {},
   "outputs": [
    {
     "name": "stdout",
     "output_type": "stream",
     "text": [
      "Epoch 1/10\n",
      "\u001b[1m15/15\u001b[0m \u001b[32m━━━━━━━━━━━━━━━━━━━━\u001b[0m\u001b[37m\u001b[0m \u001b[1m2s\u001b[0m 73ms/step - accuracy: 0.2401 - loss: 5223.0859 - val_accuracy: 0.4912 - val_loss: 2.2627\n",
      "Epoch 2/10\n",
      "\u001b[1m15/15\u001b[0m \u001b[32m━━━━━━━━━━━━━━━━━━━━\u001b[0m\u001b[37m\u001b[0m \u001b[1m1s\u001b[0m 66ms/step - accuracy: 0.6389 - loss: 1.2798 - val_accuracy: 0.5439 - val_loss: 1.0522\n",
      "Epoch 3/10\n",
      "\u001b[1m15/15\u001b[0m \u001b[32m━━━━━━━━━━━━━━━━━━━━\u001b[0m\u001b[37m\u001b[0m \u001b[1m1s\u001b[0m 63ms/step - accuracy: 0.5507 - loss: 1.1903 - val_accuracy: 0.5789 - val_loss: 0.9502\n",
      "Epoch 4/10\n",
      "\u001b[1m15/15\u001b[0m \u001b[32m━━━━━━━━━━━━━━━━━━━━\u001b[0m\u001b[37m\u001b[0m \u001b[1m1s\u001b[0m 63ms/step - accuracy: 0.6333 - loss: 0.7994 - val_accuracy: 0.5789 - val_loss: 0.8545\n",
      "Epoch 5/10\n",
      "\u001b[1m15/15\u001b[0m \u001b[32m━━━━━━━━━━━━━━━━━━━━\u001b[0m\u001b[37m\u001b[0m \u001b[1m1s\u001b[0m 63ms/step - accuracy: 0.7746 - loss: 0.4697 - val_accuracy: 0.6491 - val_loss: 1.0504\n",
      "Epoch 6/10\n",
      "\u001b[1m15/15\u001b[0m \u001b[32m━━━━━━━━━━━━━━━━━━━━\u001b[0m\u001b[37m\u001b[0m \u001b[1m1s\u001b[0m 63ms/step - accuracy: 0.8646 - loss: 0.3458 - val_accuracy: 0.6316 - val_loss: 1.0122\n",
      "Epoch 7/10\n",
      "\u001b[1m15/15\u001b[0m \u001b[32m━━━━━━━━━━━━━━━━━━━━\u001b[0m\u001b[37m\u001b[0m \u001b[1m1s\u001b[0m 64ms/step - accuracy: 0.9300 - loss: 0.2300 - val_accuracy: 0.7368 - val_loss: 0.8448\n",
      "Epoch 8/10\n",
      "\u001b[1m15/15\u001b[0m \u001b[32m━━━━━━━━━━━━━━━━━━━━\u001b[0m\u001b[37m\u001b[0m \u001b[1m1s\u001b[0m 63ms/step - accuracy: 0.9240 - loss: 0.1796 - val_accuracy: 0.7368 - val_loss: 0.7659\n",
      "Epoch 9/10\n",
      "\u001b[1m15/15\u001b[0m \u001b[32m━━━━━━━━━━━━━━━━━━━━\u001b[0m\u001b[37m\u001b[0m \u001b[1m1s\u001b[0m 64ms/step - accuracy: 0.9692 - loss: 0.0936 - val_accuracy: 0.7368 - val_loss: 0.9111\n",
      "Epoch 10/10\n",
      "\u001b[1m15/15\u001b[0m \u001b[32m━━━━━━━━━━━━━━━━━━━━\u001b[0m\u001b[37m\u001b[0m \u001b[1m1s\u001b[0m 65ms/step - accuracy: 1.0000 - loss: 0.0367 - val_accuracy: 0.7368 - val_loss: 0.9327\n"
     ]
    },
    {
     "data": {
      "image/png": "[encoded data removed]",
      "text/plain": [
       "<Figure size 640x480 with 1 Axes>"
      ]
     },
     "metadata": {},
     "output_type": "display_data"
    }
   ],
   "source": [
    "steps = X.shape[1] \n",
    "features = X.shape[2]  \n",
    "num_classes = len(genre_list)  \n",
    "\n",
    "model = Sequential([\n",
    "    Input(shape=(steps, features)), \n",
    "    Conv1D(filters=64, kernel_size=5, activation='relu'),\n",
    "    Conv1D(filters=128, kernel_size=5, activation='relu'),\n",
    "    Flatten(),\n",
    "    Dense(128, activation='relu'),\n",
    "    Dense(num_classes, activation='softmax')\n",
    "])\n",
    "\n",
    "model.compile(optimizer=Adam(), loss='categorical_crossentropy', metrics=['accuracy'])\n",
    "\n",
    "history = model.fit(X_train, y_train, epochs=10, batch_size=16, validation_data=(X_test, y_test))\n",
    "\n",
    "plt.plot(history.history['accuracy'], label='Точность на обучении')\n",
    "plt.plot(history.history['val_accuracy'], label='Точность на валидации')\n",
    "plt.legend()\n",
    "plt.show()"
   ]
  },
  {
   "cell_type": "markdown",
   "metadata": {},
   "source": [
    "accuracy: переобучения болып кетіп тұр ғой деймін. Музыка аз болған соң деп ойлап тұрм, тағыда қарап көремін"
   ]
  },
  {
   "cell_type": "code",
   "execution_count": 40,
   "metadata": {},
   "outputs": [
    {
     "name": "stdout",
     "output_type": "stream",
     "text": [
      "\u001b[1m2/2\u001b[0m \u001b[32m━━━━━━━━━━━━━━━━━━━━\u001b[0m\u001b[37m\u001b[0m \u001b[1m0s\u001b[0m 23ms/step - accuracy: 0.6996 - loss: 1.0800\n",
      "Test Loss: 0.9327, Test Accuracy: 0.7368\n"
     ]
    }
   ],
   "source": [
    "loss, accuracy = model.evaluate(X_test, y_test)\n",
    "print(f\"Test Loss: {loss:.4f}, Test Accuracy: {accuracy:.4f}\")"
   ]
  }
 ],
 "metadata": {
  "kernelspec": {
   "display_name": "myenv",
   "language": "python",
   "name": "python3"
  },
  "language_info": {
   "codemirror_mode": {
    "name": "ipython",
    "version": 3
   },
   "file_extension": ".py",
   "mimetype": "text/x-python",
   "name": "python",
   "nbconvert_exporter": "python",
   "pygments_lexer": "ipython3",
   "version": "3.11.11"
  }
 },
 "nbformat": 4,
 "nbformat_minor": 2
}
